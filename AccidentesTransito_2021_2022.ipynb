{
  "nbformat": 4,
  "nbformat_minor": 0,
  "metadata": {
    "colab": {
      "provenance": []
    },
    "kernelspec": {
      "name": "python3",
      "display_name": "Python 3"
    },
    "language_info": {
      "name": "python"
    }
  },
  "cells": [
    {
      "cell_type": "markdown",
      "source": [
        "#Accidentes de Tránsito en Carreteras\n",
        "DataSet obtenido de [Datos Abiertos](https://www.datosabiertos.gob.pe/dataset/accidentes-de-tr%C3%A1nsito-en-carreteras)"
      ],
      "metadata": {
        "id": "5v0cCp0CSew0"
      }
    },
    {
      "cell_type": "code",
      "source": [],
      "metadata": {
        "id": "bZVPGwzLSgWB"
      },
      "execution_count": null,
      "outputs": []
    }
  ]
}