{
  "cells": [
    {
      "cell_type": "markdown",
      "metadata": {
        "id": "6KjOCJMJpbPr"
      },
      "source": [
        "Referencia:  https://python-charts.com/es/correlacion/mapa-calor-matplotlib/#google_vignette\n",
        "\n",
        "Color Menu: https://matplotlib.org/stable/tutorials/colors/colormaps.html\n",
        "\n",
        "Changing the pixel size of a heat map: https://stackoverflow.com/questions/59108946/changing-the-pixel-size-of-a-heat-map"
      ]
    },
    {
      "cell_type": "code",
      "execution_count": null,
      "metadata": {
        "id": "rfRC1FX4qZYd"
      },
      "outputs": [],
      "source": []
    },
    {
      "cell_type": "code",
      "execution_count": null,
      "metadata": {
        "colab": {
          "base_uri": "https://localhost:8080/"
        },
        "id": "DVUR5DCTtZh9",
        "outputId": "06e7d5f7-dfe2-42ac-e37b-b110f8dd7152"
      },
      "outputs": [
        {
          "output_type": "execute_result",
          "data": {
            "text/plain": [
              "array([[21.  , 21.25, 21.5 , 22.75, 23.  , 20.75, 20.75, 21.75],\n",
              "       [20.25, 21.25, 22.5 , 23.75, 23.75, 20.75, 20.75, 21.75],\n",
              "       [20.25, 21.25, 23.  , 23.5 , 23.75, 21.5 , 21.25, 21.25],\n",
              "       [20.75, 21.25, 23.25, 23.75, 23.25, 22.75, 20.75, 21.5 ],\n",
              "       [20.75, 22.  , 24.5 , 23.75, 25.  , 25.25, 21.25, 21.25],\n",
              "       [20.75, 22.25, 24.25, 23.75, 24.  , 23.75, 21.5 , 21.  ],\n",
              "       [21.  , 22.  , 23.75, 24.5 , 23.75, 23.  , 21.5 , 21.25],\n",
              "       [21.5 , 21.  , 22.75, 24.75, 24.25, 22.25, 21.5 , 21.  ]])"
            ]
          },
          "metadata": {},
          "execution_count": 3
        }
      ],
      "source": [
        "import numpy as np\n",
        "\n",
        "headmap_list=[21.00, 21.25, 21.50, 22.75, 23.00, 20.75, 20.75, 21.75,\n",
        "20.25, 21.25, 22.50, 23.75, 23.75, 20.75, 20.75, 21.75,\n",
        "20.25, 21.25, 23.00, 23.50, 23.75, 21.50, 21.25, 21.25,\n",
        "20.75, 21.25, 23.25, 23.75, 23.25, 22.75, 20.75, 21.50,\n",
        "20.75, 22.00, 24.50, 23.75, 25.00, 25.25, 21.25, 21.25,\n",
        "20.75, 22.25, 24.25, 23.75, 24.00, 23.75, 21.50, 21.00,\n",
        "21.00, 22.00, 23.75, 24.50, 23.75, 23.00, 21.50, 21.25,\n",
        "21.50, 21.00, 22.75, 24.75, 24.25, 22.25, 21.50, 21.00]\n",
        "\n",
        "headmap_array=np.array(headmap_list)\n",
        "headmap_matriz_8x8=headmap_array.reshape(8, -1)\n",
        "headmap_matriz_8x8"
      ]
    },
    {
      "cell_type": "code",
      "execution_count": null,
      "metadata": {
        "colab": {
          "base_uri": "https://localhost:8080/",
          "height": 435
        },
        "id": "d7o1qZuKqZs0",
        "outputId": "bc56c806-e065-41ab-9e53-d6875299085d"
      },
      "outputs": [
        {
          "output_type": "display_data",
          "data": {
            "text/plain": [
              "<Figure size 640x480 with 2 Axes>"
            ],
            "image/png": "[encoded data removed]"
          },
          "metadata": {}
        }
      ],
      "source": [
        "import matplotlib.pyplot as plt\n",
        "\n",
        "# Datos con una resolución de 8x8 pixels\n",
        "data = headmap_matriz_8x8;\n",
        "\n",
        "# Mapa de calor\n",
        "fig, ax = plt.subplots()\n",
        "im = ax.imshow(data, cmap = \"jet\", vmin = 20, vmax = 25)\n",
        "\n",
        "# Agregar la leyenda\n",
        "cbar = ax.figure.colorbar(im, ax = ax)\n",
        "cbar.ax.set_ylabel(\"Heat Map\", rotation = -90, va = \"bottom\")\n",
        "\n",
        "plt.show()"
      ]
    },
    {
      "cell_type": "code",
      "execution_count": null,
      "metadata": {
        "colab": {
          "base_uri": "https://localhost:8080/",
          "height": 435
        },
        "id": "OkD-uDfszE0t",
        "outputId": "3fc8ecda-ce7a-4e8d-8b06-bd6f9924747f"
      },
      "outputs": [
        {
          "output_type": "display_data",
          "data": {
            "text/plain": [
              "<Figure size 640x480 with 2 Axes>"
            ],
            "image/png": "[encoded data removed]"
          },
          "metadata": {}
        }
      ],
      "source": [
        "import matplotlib.pyplot as plt\n",
        "\n",
        "# Datos con una resolución de 8x8 pixels\n",
        "data = headmap_matriz_8x8;\n",
        "\n",
        "# Mapa de calor\n",
        "fig, ax = plt.subplots()\n",
        "\n",
        "#im = ax.imshow(data, cmap = \"jet\")   # Los valorse minimos y máximos son asignados autormáticamente\n",
        "im = ax.imshow(data, cmap = \"jet\", vmin = 20, vmax = 30)\n",
        "\n",
        "# Agregar la leyenda\n",
        "cbar = ax.figure.colorbar(im, ax = ax)\n",
        "cbar.ax.set_ylabel(\"Heat Map\", rotation = -90, va = \"bottom\")\n",
        "\n",
        "plt.show()"
      ]
    },
    {
      "cell_type": "code",
      "execution_count": null,
      "metadata": {
        "id": "5CoPX1pMegFR"
      },
      "outputs": [],
      "source": []
    },
    {
      "cell_type": "code",
      "execution_count": null,
      "metadata": {
        "id": "9ljG1_TkegKe"
      },
      "outputs": [],
      "source": []
    },
    {
      "cell_type": "code",
      "execution_count": null,
      "metadata": {
        "id": "hho9l97pegQR"
      },
      "outputs": [],
      "source": []
    },
    {
      "cell_type": "code",
      "source": [],
      "metadata": {
        "id": "FeJo5uZTVN4q"
      },
      "execution_count": null,
      "outputs": []
    }
  ],
  "metadata": {
    "colab": {
      "provenance": []
    },
    "kernelspec": {
      "display_name": "Python 3",
      "name": "python3"
    },
    "language_info": {
      "name": "python"
    }
  },
  "nbformat": 4,
  "nbformat_minor": 0
}