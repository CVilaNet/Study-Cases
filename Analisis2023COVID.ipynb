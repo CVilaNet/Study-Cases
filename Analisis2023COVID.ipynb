{
  "nbformat": 4,
  "nbformat_minor": 0,
  "metadata": {
    "colab": {
      "provenance": []
    },
    "kernelspec": {
      "name": "python3",
      "display_name": "Python 3"
    },
    "language_info": {
      "name": "python"
    }
  },
  "cells": [
    {
      "cell_type": "markdown",
      "source": [
        "## 1. Cargando la **Data COVID**\n",
        "Origen de datos **Plataforma de Datos Abiertos** [Fallecidos por COVID-19 (Ministerio de Salud - MINSA)](https://www.datosabiertos.gob.pe/dataset/fallecidos-por-covid-19-ministerio-de-salud-minsa). *Actualizado al 04/03/2023*"
      ],
      "metadata": {
        "id": "XBl1by8Ja7fQ"
      }
    },
    {
      "cell_type": "code",
      "execution_count": null,
      "metadata": {
        "colab": {
          "base_uri": "https://localhost:8080/"
        },
        "id": "JnW5xKhvO9gw",
        "outputId": "e417035d-62ce-4005-b885-b31499574c44"
      },
      "outputs": [
        {
          "output_type": "stream",
          "name": "stderr",
          "text": [
            "/usr/local/lib/python3.8/dist-packages/IPython/core/interactiveshell.py:3326: DtypeWarning: Columns (8) have mixed types.Specify dtype option on import or set low_memory=False.\n",
            "  exec(code_obj, self.user_global_ns, self.user_ns)\n"
          ]
        },
        {
          "output_type": "execute_result",
          "data": {
            "text/plain": [
              "(219478, 10)"
            ]
          },
          "metadata": {},
          "execution_count": 73
        }
      ],
      "source": [
        "import pandas as pd\n",
        "\n",
        "url='https://drive.google.com/file/d/11c5NdVLXrr9c6ZMDsNWuCVhxVMfqNEF-/view?usp=sharing'\n",
        "\n",
        "file_id=url.split('/')[-2]\n",
        "dwn_url='https://drive.google.com/uc?id=' + file_id\n",
        "\n",
        "df = pd.read_csv(dwn_url, encoding = 'utf-8', sep=';')\n",
        "\n",
        "df.shape"
      ]
    },
    {
      "cell_type": "code",
      "source": [
        "df.head()"
      ],
      "metadata": {
        "colab": {
          "base_uri": "https://localhost:8080/",
          "height": 206
        },
        "id": "0zMALM27P5M3",
        "outputId": "ecdc3725-3233-4bb3-bf41-3a9a5c6aca63"
      },
      "execution_count": null,
      "outputs": [
        {
          "output_type": "execute_result",
          "data": {
            "text/plain": [
              "   FECHA_CORTE  FECHA_FALLECIMIENTO  EDAD_DECLARADA       SEXO  \\\n",
              "0     20230301             20210512            88.0   FEMENINO   \n",
              "1     20230301             20210624            58.0  MASCULINO   \n",
              "2     20230301             20210426            84.0  MASCULINO   \n",
              "3     20230301             20210315            64.0  MASCULINO   \n",
              "4     20230301             20210504            62.0  MASCULINO   \n",
              "\n",
              "      CLASIFICACION_DEF DEPARTAMENTO          PROVINCIA    DISTRITO  UBIGEO  \\\n",
              "0      Criterio SINADEF     AREQUIPA           AREQUIPA  PAUCARPATA  040112   \n",
              "1      Criterio SINADEF     AREQUIPA           AREQUIPA  PAUCARPATA  040112   \n",
              "2  Criterio serolÃ³gico  LA LIBERTAD    SANCHEZ CARRION      CHUGAY  130902   \n",
              "3  Criterio virolÃ³gico  LA LIBERTAD  SANTIAGO DE CHUCO  CACHICADAN  131003   \n",
              "4      Criterio SINADEF         LIMA             HUARAL     CHANCAY  150605   \n",
              "\n",
              "         UUID  \n",
              "0  13889730.0  \n",
              "1  13889749.0  \n",
              "2  13889932.0  \n",
              "3  13889956.0  \n",
              "4  13890034.0  "
            ],
            "text/html": [
              "\n",
              "  <div id=\"df-6934a8eb-9c15-4629-990b-f52f6a26c6b4\">\n",
              "    <div class=\"colab-df-container\">\n",
              "      <div>\n",
              "<style scoped>\n",
              "    .dataframe tbody tr th:only-of-type {\n",
              "        vertical-align: middle;\n",
              "    }\n",
              "\n",
              "    .dataframe tbody tr th {\n",
              "        vertical-align: top;\n",
              "    }\n",
              "\n",
              "    .dataframe thead th {\n",
              "        text-align: right;\n",
              "    }\n",
              "</style>\n",
              "<table border=\"1\" class=\"dataframe\">\n",
              "  <thead>\n",
              "    <tr style=\"text-align: right;\">\n",
              "      <th></th>\n",
              "      <th>FECHA_CORTE</th>\n",
              "      <th>FECHA_FALLECIMIENTO</th>\n",
              "      <th>EDAD_DECLARADA</th>\n",
              "      <th>SEXO</th>\n",
              "      <th>CLASIFICACION_DEF</th>\n",
              "      <th>DEPARTAMENTO</th>\n",
              "      <th>PROVINCIA</th>\n",
              "      <th>DISTRITO</th>\n",
              "      <th>UBIGEO</th>\n",
              "      <th>UUID</th>\n",
              "    </tr>\n",
              "  </thead>\n",
              "  <tbody>\n",
              "    <tr>\n",
              "      <th>0</th>\n",
              "      <td>20230301</td>\n",
              "      <td>20210512</td>\n",
              "      <td>88.0</td>\n",
              "      <td>FEMENINO</td>\n",
              "      <td>Criterio SINADEF</td>\n",
              "      <td>AREQUIPA</td>\n",
              "      <td>AREQUIPA</td>\n",
              "      <td>PAUCARPATA</td>\n",
              "      <td>040112</td>\n",
              "      <td>13889730.0</td>\n",
              "    </tr>\n",
              "    <tr>\n",
              "      <th>1</th>\n",
              "      <td>20230301</td>\n",
              "      <td>20210624</td>\n",
              "      <td>58.0</td>\n",
              "      <td>MASCULINO</td>\n",
              "      <td>Criterio SINADEF</td>\n",
              "      <td>AREQUIPA</td>\n",
              "      <td>AREQUIPA</td>\n",
              "      <td>PAUCARPATA</td>\n",
              "      <td>040112</td>\n",
              "      <td>13889749.0</td>\n",
              "    </tr>\n",
              "    <tr>\n",
              "      <th>2</th>\n",
              "      <td>20230301</td>\n",
              "      <td>20210426</td>\n",
              "      <td>84.0</td>\n",
              "      <td>MASCULINO</td>\n",
              "      <td>Criterio serolÃ³gico</td>\n",
              "      <td>LA LIBERTAD</td>\n",
              "      <td>SANCHEZ CARRION</td>\n",
              "      <td>CHUGAY</td>\n",
              "      <td>130902</td>\n",
              "      <td>13889932.0</td>\n",
              "    </tr>\n",
              "    <tr>\n",
              "      <th>3</th>\n",
              "      <td>20230301</td>\n",
              "      <td>20210315</td>\n",
              "      <td>64.0</td>\n",
              "      <td>MASCULINO</td>\n",
              "      <td>Criterio virolÃ³gico</td>\n",
              "      <td>LA LIBERTAD</td>\n",
              "      <td>SANTIAGO DE CHUCO</td>\n",
              "      <td>CACHICADAN</td>\n",
              "      <td>131003</td>\n",
              "      <td>13889956.0</td>\n",
              "    </tr>\n",
              "    <tr>\n",
              "      <th>4</th>\n",
              "      <td>20230301</td>\n",
              "      <td>20210504</td>\n",
              "      <td>62.0</td>\n",
              "      <td>MASCULINO</td>\n",
              "      <td>Criterio SINADEF</td>\n",
              "      <td>LIMA</td>\n",
              "      <td>HUARAL</td>\n",
              "      <td>CHANCAY</td>\n",
              "      <td>150605</td>\n",
              "      <td>13890034.0</td>\n",
              "    </tr>\n",
              "  </tbody>\n",
              "</table>\n",
              "</div>\n",
              "      <button class=\"colab-df-convert\" onclick=\"convertToInteractive('df-6934a8eb-9c15-4629-990b-f52f6a26c6b4')\"\n",
              "              title=\"Convert this dataframe to an interactive table.\"\n",
              "              style=\"display:none;\">\n",
              "        \n",
              "  <svg xmlns=\"http://www.w3.org/2000/svg\" height=\"24px\"viewBox=\"0 0 24 24\"\n",
              "       width=\"24px\">\n",
              "    <path d=\"M0 0h24v24H0V0z\" fill=\"none\"/>\n",
              "    <path d=\"M18.56 5.44l.94 2.06.94-2.06 2.06-.94-2.06-.94-.94-2.06-.94 2.06-2.06.94zm-11 1L8.5 8.5l.94-2.06 2.06-.94-2.06-.94L8.5 2.5l-.94 2.06-2.06.94zm10 10l.94 2.06.94-2.06 2.06-.94-2.06-.94-.94-2.06-.94 2.06-2.06.94z\"/><path d=\"M17.41 7.96l-1.37-1.37c-.4-.4-.92-.59-1.43-.59-.52 0-1.04.2-1.43.59L10.3 9.45l-7.72 7.72c-.78.78-.78 2.05 0 2.83L4 21.41c.39.39.9.59 1.41.59.51 0 1.02-.2 1.41-.59l7.78-7.78 2.81-2.81c.8-.78.8-2.07 0-2.86zM5.41 20L4 18.59l7.72-7.72 1.47 1.35L5.41 20z\"/>\n",
              "  </svg>\n",
              "      </button>\n",
              "      \n",
              "  <style>\n",
              "    .colab-df-container {\n",
              "      display:flex;\n",
              "      flex-wrap:wrap;\n",
              "      gap: 12px;\n",
              "    }\n",
              "\n",
              "    .colab-df-convert {\n",
              "      background-color: #E8F0FE;\n",
              "      border: none;\n",
              "      border-radius: 50%;\n",
              "      cursor: pointer;\n",
              "      display: none;\n",
              "      fill: #1967D2;\n",
              "      height: 32px;\n",
              "      padding: 0 0 0 0;\n",
              "      width: 32px;\n",
              "    }\n",
              "\n",
              "    .colab-df-convert:hover {\n",
              "      background-color: #E2EBFA;\n",
              "      box-shadow: 0px 1px 2px rgba(60, 64, 67, 0.3), 0px 1px 3px 1px rgba(60, 64, 67, 0.15);\n",
              "      fill: #174EA6;\n",
              "    }\n",
              "\n",
              "    [theme=dark] .colab-df-convert {\n",
              "      background-color: #3B4455;\n",
              "      fill: #D2E3FC;\n",
              "    }\n",
              "\n",
              "    [theme=dark] .colab-df-convert:hover {\n",
              "      background-color: #434B5C;\n",
              "      box-shadow: 0px 1px 3px 1px rgba(0, 0, 0, 0.15);\n",
              "      filter: drop-shadow(0px 1px 2px rgba(0, 0, 0, 0.3));\n",
              "      fill: #FFFFFF;\n",
              "    }\n",
              "  </style>\n",
              "\n",
              "      <script>\n",
              "        const buttonEl =\n",
              "          document.querySelector('#df-6934a8eb-9c15-4629-990b-f52f6a26c6b4 button.colab-df-convert');\n",
              "        buttonEl.style.display =\n",
              "          google.colab.kernel.accessAllowed ? 'block' : 'none';\n",
              "\n",
              "        async function convertToInteractive(key) {\n",
              "          const element = document.querySelector('#df-6934a8eb-9c15-4629-990b-f52f6a26c6b4');\n",
              "          const dataTable =\n",
              "            await google.colab.kernel.invokeFunction('convertToInteractive',\n",
              "                                                     [key], {});\n",
              "          if (!dataTable) return;\n",
              "\n",
              "          const docLinkHtml = 'Like what you see? Visit the ' +\n",
              "            '<a target=\"_blank\" href=https://colab.research.google.com/notebooks/data_table.ipynb>data table notebook</a>'\n",
              "            + ' to learn more about interactive tables.';\n",
              "          element.innerHTML = '';\n",
              "          dataTable['output_type'] = 'display_data';\n",
              "          await google.colab.output.renderOutput(dataTable, element);\n",
              "          const docLink = document.createElement('div');\n",
              "          docLink.innerHTML = docLinkHtml;\n",
              "          element.appendChild(docLink);\n",
              "        }\n",
              "      </script>\n",
              "    </div>\n",
              "  </div>\n",
              "  "
            ]
          },
          "metadata": {},
          "execution_count": 74
        }
      ]
    },
    {
      "cell_type": "markdown",
      "source": [
        "### 1.1 Limpieza de Datos"
      ],
      "metadata": {
        "id": "3EFOTen6bpH_"
      }
    },
    {
      "cell_type": "code",
      "source": [
        "# Realizando las correcciones de tildes de los Clasificadores de Defunsión\n",
        "df.groupby(['CLASIFICACION_DEF']).count()['FECHA_CORTE']"
      ],
      "metadata": {
        "id": "Nj35kWfXkW6f",
        "colab": {
          "base_uri": "https://localhost:8080/"
        },
        "outputId": "647eedba-eeef-4a55-fee2-6e712bd609dd"
      },
      "execution_count": null,
      "outputs": [
        {
          "output_type": "execute_result",
          "data": {
            "text/plain": [
              "CLASIFICACION_DEF\n",
              "Criterio SINADEF                           66179\n",
              "Criterio clÃ­nico                           9541\n",
              "Criterio investigaciÃ³n EpidemiolÃ³gica    10788\n",
              "Criterio nexo epidemiolÃ³gico               2216\n",
              "Criterio radiolÃ³gico                       5113\n",
              "Criterio serolÃ³gico                       42912\n",
              "Criterio virolÃ³gico                       82729\n",
              "Name: FECHA_CORTE, dtype: int64"
            ]
          },
          "metadata": {},
          "execution_count": 75
        }
      ]
    },
    {
      "cell_type": "code",
      "source": [
        "df['CLASIFICACION_DEF'] = df['CLASIFICACION_DEF'].apply(lambda x: 'Criterio clinico' if (x=='Criterio clÃ­nico') else x)\n",
        "df['CLASIFICACION_DEF'] = df['CLASIFICACION_DEF'].apply(lambda x: 'Criterio investigacion epidemiologica' if (x=='Criterio investigaciÃ³n EpidemiolÃ³gica') else x)\n",
        "df['CLASIFICACION_DEF'] = df['CLASIFICACION_DEF'].apply(lambda x: 'Criterio nexo epidemiologico' if (x=='Criterio nexo epidemiolÃ³gico') else x)\n",
        "df['CLASIFICACION_DEF'] = df['CLASIFICACION_DEF'].apply(lambda x: 'Criterio radiologico' if (x=='Criterio radiolÃ³gico') else x)\n",
        "df['CLASIFICACION_DEF'] = df['CLASIFICACION_DEF'].apply(lambda x: 'Criterio serologico' if (x=='Criterio serolÃ³gico') else x)\n",
        "df['CLASIFICACION_DEF'] = df['CLASIFICACION_DEF'].apply(lambda x: 'Criterio virologico' if (x=='Criterio virolÃ³gico') else x)"
      ],
      "metadata": {
        "id": "VopOMIcobucI"
      },
      "execution_count": null,
      "outputs": []
    },
    {
      "cell_type": "code",
      "source": [
        "df.info()"
      ],
      "metadata": {
        "colab": {
          "base_uri": "https://localhost:8080/"
        },
        "id": "FC_V4SEPbueN",
        "outputId": "727282d2-68fd-4c05-dd8f-021c03fd6d84"
      },
      "execution_count": null,
      "outputs": [
        {
          "output_type": "stream",
          "name": "stdout",
          "text": [
            "<class 'pandas.core.frame.DataFrame'>\n",
            "RangeIndex: 219478 entries, 0 to 219477\n",
            "Data columns (total 10 columns):\n",
            " #   Column               Non-Null Count   Dtype  \n",
            "---  ------               --------------   -----  \n",
            " 0   FECHA_CORTE          219478 non-null  int64  \n",
            " 1   FECHA_FALLECIMIENTO  219478 non-null  int64  \n",
            " 2   EDAD_DECLARADA       219474 non-null  float64\n",
            " 3   SEXO                 219478 non-null  object \n",
            " 4   CLASIFICACION_DEF    219478 non-null  object \n",
            " 5   DEPARTAMENTO         219478 non-null  object \n",
            " 6   PROVINCIA            219473 non-null  object \n",
            " 7   DISTRITO             219473 non-null  object \n",
            " 8   UBIGEO               219478 non-null  object \n",
            " 9   UUID                 216814 non-null  float64\n",
            "dtypes: float64(2), int64(2), object(6)\n",
            "memory usage: 16.7+ MB\n"
          ]
        }
      ]
    },
    {
      "cell_type": "code",
      "source": [
        "df['FECHA_FALLECIMIENTO'] = df['FECHA_FALLECIMIENTO'].astype(str)"
      ],
      "metadata": {
        "id": "I07wRc0Uk-Bo"
      },
      "execution_count": null,
      "outputs": []
    },
    {
      "cell_type": "code",
      "source": [
        "dfCovid = df.copy()\n",
        "dfCovid.info()"
      ],
      "metadata": {
        "colab": {
          "base_uri": "https://localhost:8080/"
        },
        "id": "SrNSMnKPk-D-",
        "outputId": "94e31c9c-d575-4632-dd23-0f8ce0ac0630"
      },
      "execution_count": null,
      "outputs": [
        {
          "output_type": "stream",
          "name": "stdout",
          "text": [
            "<class 'pandas.core.frame.DataFrame'>\n",
            "RangeIndex: 219478 entries, 0 to 219477\n",
            "Data columns (total 10 columns):\n",
            " #   Column               Non-Null Count   Dtype  \n",
            "---  ------               --------------   -----  \n",
            " 0   FECHA_CORTE          219478 non-null  int64  \n",
            " 1   FECHA_FALLECIMIENTO  219478 non-null  object \n",
            " 2   EDAD_DECLARADA       219474 non-null  float64\n",
            " 3   SEXO                 219478 non-null  object \n",
            " 4   CLASIFICACION_DEF    219478 non-null  object \n",
            " 5   DEPARTAMENTO         219478 non-null  object \n",
            " 6   PROVINCIA            219473 non-null  object \n",
            " 7   DISTRITO             219473 non-null  object \n",
            " 8   UBIGEO               219478 non-null  object \n",
            " 9   UUID                 216814 non-null  float64\n",
            "dtypes: float64(2), int64(1), object(7)\n",
            "memory usage: 16.7+ MB\n"
          ]
        }
      ]
    },
    {
      "cell_type": "markdown",
      "source": [
        "## 2. Análisis por Clasificación de Defunsión en el Tiempo"
      ],
      "metadata": {
        "id": "ePr1D1wrjs_Z"
      }
    },
    {
      "cell_type": "code",
      "source": [
        "dfCovid.head()"
      ],
      "metadata": {
        "colab": {
          "base_uri": "https://localhost:8080/",
          "height": 206
        },
        "id": "usIh3hlsbugf",
        "outputId": "93d4a563-6866-4988-a9e7-f9dabe1175e4"
      },
      "execution_count": null,
      "outputs": [
        {
          "output_type": "execute_result",
          "data": {
            "text/plain": [
              "   FECHA_CORTE FECHA_FALLECIMIENTO  EDAD_DECLARADA       SEXO  \\\n",
              "0     20230301            20210512            88.0   FEMENINO   \n",
              "1     20230301            20210624            58.0  MASCULINO   \n",
              "2     20230301            20210426            84.0  MASCULINO   \n",
              "3     20230301            20210315            64.0  MASCULINO   \n",
              "4     20230301            20210504            62.0  MASCULINO   \n",
              "\n",
              "     CLASIFICACION_DEF DEPARTAMENTO          PROVINCIA    DISTRITO  UBIGEO  \\\n",
              "0     Criterio SINADEF     AREQUIPA           AREQUIPA  PAUCARPATA  040112   \n",
              "1     Criterio SINADEF     AREQUIPA           AREQUIPA  PAUCARPATA  040112   \n",
              "2  Criterio serologico  LA LIBERTAD    SANCHEZ CARRION      CHUGAY  130902   \n",
              "3  Criterio virologico  LA LIBERTAD  SANTIAGO DE CHUCO  CACHICADAN  131003   \n",
              "4     Criterio SINADEF         LIMA             HUARAL     CHANCAY  150605   \n",
              "\n",
              "         UUID  \n",
              "0  13889730.0  \n",
              "1  13889749.0  \n",
              "2  13889932.0  \n",
              "3  13889956.0  \n",
              "4  13890034.0  "
            ],
            "text/html": [
              "\n",
              "  <div id=\"df-a2b6127f-1839-4cc4-af22-6960b70525b4\">\n",
              "    <div class=\"colab-df-container\">\n",
              "      <div>\n",
              "<style scoped>\n",
              "    .dataframe tbody tr th:only-of-type {\n",
              "        vertical-align: middle;\n",
              "    }\n",
              "\n",
              "    .dataframe tbody tr th {\n",
              "        vertical-align: top;\n",
              "    }\n",
              "\n",
              "    .dataframe thead th {\n",
              "        text-align: right;\n",
              "    }\n",
              "</style>\n",
              "<table border=\"1\" class=\"dataframe\">\n",
              "  <thead>\n",
              "    <tr style=\"text-align: right;\">\n",
              "      <th></th>\n",
              "      <th>FECHA_CORTE</th>\n",
              "      <th>FECHA_FALLECIMIENTO</th>\n",
              "      <th>EDAD_DECLARADA</th>\n",
              "      <th>SEXO</th>\n",
              "      <th>CLASIFICACION_DEF</th>\n",
              "      <th>DEPARTAMENTO</th>\n",
              "      <th>PROVINCIA</th>\n",
              "      <th>DISTRITO</th>\n",
              "      <th>UBIGEO</th>\n",
              "      <th>UUID</th>\n",
              "    </tr>\n",
              "  </thead>\n",
              "  <tbody>\n",
              "    <tr>\n",
              "      <th>0</th>\n",
              "      <td>20230301</td>\n",
              "      <td>20210512</td>\n",
              "      <td>88.0</td>\n",
              "      <td>FEMENINO</td>\n",
              "      <td>Criterio SINADEF</td>\n",
              "      <td>AREQUIPA</td>\n",
              "      <td>AREQUIPA</td>\n",
              "      <td>PAUCARPATA</td>\n",
              "      <td>040112</td>\n",
              "      <td>13889730.0</td>\n",
              "    </tr>\n",
              "    <tr>\n",
              "      <th>1</th>\n",
              "      <td>20230301</td>\n",
              "      <td>20210624</td>\n",
              "      <td>58.0</td>\n",
              "      <td>MASCULINO</td>\n",
              "      <td>Criterio SINADEF</td>\n",
              "      <td>AREQUIPA</td>\n",
              "      <td>AREQUIPA</td>\n",
              "      <td>PAUCARPATA</td>\n",
              "      <td>040112</td>\n",
              "      <td>13889749.0</td>\n",
              "    </tr>\n",
              "    <tr>\n",
              "      <th>2</th>\n",
              "      <td>20230301</td>\n",
              "      <td>20210426</td>\n",
              "      <td>84.0</td>\n",
              "      <td>MASCULINO</td>\n",
              "      <td>Criterio serologico</td>\n",
              "      <td>LA LIBERTAD</td>\n",
              "      <td>SANCHEZ CARRION</td>\n",
              "      <td>CHUGAY</td>\n",
              "      <td>130902</td>\n",
              "      <td>13889932.0</td>\n",
              "    </tr>\n",
              "    <tr>\n",
              "      <th>3</th>\n",
              "      <td>20230301</td>\n",
              "      <td>20210315</td>\n",
              "      <td>64.0</td>\n",
              "      <td>MASCULINO</td>\n",
              "      <td>Criterio virologico</td>\n",
              "      <td>LA LIBERTAD</td>\n",
              "      <td>SANTIAGO DE CHUCO</td>\n",
              "      <td>CACHICADAN</td>\n",
              "      <td>131003</td>\n",
              "      <td>13889956.0</td>\n",
              "    </tr>\n",
              "    <tr>\n",
              "      <th>4</th>\n",
              "      <td>20230301</td>\n",
              "      <td>20210504</td>\n",
              "      <td>62.0</td>\n",
              "      <td>MASCULINO</td>\n",
              "      <td>Criterio SINADEF</td>\n",
              "      <td>LIMA</td>\n",
              "      <td>HUARAL</td>\n",
              "      <td>CHANCAY</td>\n",
              "      <td>150605</td>\n",
              "      <td>13890034.0</td>\n",
              "    </tr>\n",
              "  </tbody>\n",
              "</table>\n",
              "</div>\n",
              "      <button class=\"colab-df-convert\" onclick=\"convertToInteractive('df-a2b6127f-1839-4cc4-af22-6960b70525b4')\"\n",
              "              title=\"Convert this dataframe to an interactive table.\"\n",
              "              style=\"display:none;\">\n",
              "        \n",
              "  <svg xmlns=\"http://www.w3.org/2000/svg\" height=\"24px\"viewBox=\"0 0 24 24\"\n",
              "       width=\"24px\">\n",
              "    <path d=\"M0 0h24v24H0V0z\" fill=\"none\"/>\n",
              "    <path d=\"M18.56 5.44l.94 2.06.94-2.06 2.06-.94-2.06-.94-.94-2.06-.94 2.06-2.06.94zm-11 1L8.5 8.5l.94-2.06 2.06-.94-2.06-.94L8.5 2.5l-.94 2.06-2.06.94zm10 10l.94 2.06.94-2.06 2.06-.94-2.06-.94-.94-2.06-.94 2.06-2.06.94z\"/><path d=\"M17.41 7.96l-1.37-1.37c-.4-.4-.92-.59-1.43-.59-.52 0-1.04.2-1.43.59L10.3 9.45l-7.72 7.72c-.78.78-.78 2.05 0 2.83L4 21.41c.39.39.9.59 1.41.59.51 0 1.02-.2 1.41-.59l7.78-7.78 2.81-2.81c.8-.78.8-2.07 0-2.86zM5.41 20L4 18.59l7.72-7.72 1.47 1.35L5.41 20z\"/>\n",
              "  </svg>\n",
              "      </button>\n",
              "      \n",
              "  <style>\n",
              "    .colab-df-container {\n",
              "      display:flex;\n",
              "      flex-wrap:wrap;\n",
              "      gap: 12px;\n",
              "    }\n",
              "\n",
              "    .colab-df-convert {\n",
              "      background-color: #E8F0FE;\n",
              "      border: none;\n",
              "      border-radius: 50%;\n",
              "      cursor: pointer;\n",
              "      display: none;\n",
              "      fill: #1967D2;\n",
              "      height: 32px;\n",
              "      padding: 0 0 0 0;\n",
              "      width: 32px;\n",
              "    }\n",
              "\n",
              "    .colab-df-convert:hover {\n",
              "      background-color: #E2EBFA;\n",
              "      box-shadow: 0px 1px 2px rgba(60, 64, 67, 0.3), 0px 1px 3px 1px rgba(60, 64, 67, 0.15);\n",
              "      fill: #174EA6;\n",
              "    }\n",
              "\n",
              "    [theme=dark] .colab-df-convert {\n",
              "      background-color: #3B4455;\n",
              "      fill: #D2E3FC;\n",
              "    }\n",
              "\n",
              "    [theme=dark] .colab-df-convert:hover {\n",
              "      background-color: #434B5C;\n",
              "      box-shadow: 0px 1px 3px 1px rgba(0, 0, 0, 0.15);\n",
              "      filter: drop-shadow(0px 1px 2px rgba(0, 0, 0, 0.3));\n",
              "      fill: #FFFFFF;\n",
              "    }\n",
              "  </style>\n",
              "\n",
              "      <script>\n",
              "        const buttonEl =\n",
              "          document.querySelector('#df-a2b6127f-1839-4cc4-af22-6960b70525b4 button.colab-df-convert');\n",
              "        buttonEl.style.display =\n",
              "          google.colab.kernel.accessAllowed ? 'block' : 'none';\n",
              "\n",
              "        async function convertToInteractive(key) {\n",
              "          const element = document.querySelector('#df-a2b6127f-1839-4cc4-af22-6960b70525b4');\n",
              "          const dataTable =\n",
              "            await google.colab.kernel.invokeFunction('convertToInteractive',\n",
              "                                                     [key], {});\n",
              "          if (!dataTable) return;\n",
              "\n",
              "          const docLinkHtml = 'Like what you see? Visit the ' +\n",
              "            '<a target=\"_blank\" href=https://colab.research.google.com/notebooks/data_table.ipynb>data table notebook</a>'\n",
              "            + ' to learn more about interactive tables.';\n",
              "          element.innerHTML = '';\n",
              "          dataTable['output_type'] = 'display_data';\n",
              "          await google.colab.output.renderOutput(dataTable, element);\n",
              "          const docLink = document.createElement('div');\n",
              "          docLink.innerHTML = docLinkHtml;\n",
              "          element.appendChild(docLink);\n",
              "        }\n",
              "      </script>\n",
              "    </div>\n",
              "  </div>\n",
              "  "
            ]
          },
          "metadata": {},
          "execution_count": 80
        }
      ]
    },
    {
      "cell_type": "code",
      "source": [
        "# Agrupando por AÑO/MES la cantidad de fallecidos\n",
        "dfCovid['FECHA_YM'] = dfCovid['FECHA_FALLECIMIENTO'].apply(lambda x:x[0:6] if(len(x)==8) else '')\n",
        "\n",
        "# Conteno de fallecidos por Clasificación en el tiempo\n",
        "dfClasificacion = pd.crosstab(dfCovid.FECHA_YM, dfCovid.CLASIFICACION_DEF)\n",
        "dfClasificacion.head()"
      ],
      "metadata": {
        "colab": {
          "base_uri": "https://localhost:8080/",
          "height": 299
        },
        "id": "paAsh7C6buit",
        "outputId": "2141cfc8-482e-46e2-f2bb-1cc528a93ca4"
      },
      "execution_count": null,
      "outputs": [
        {
          "output_type": "execute_result",
          "data": {
            "text/plain": [
              "CLASIFICACION_DEF  Criterio SINADEF  Criterio clinico  \\\n",
              "FECHA_YM                                                \n",
              "202003                           35                52   \n",
              "202004                         1792               543   \n",
              "202005                         6823              1154   \n",
              "202006                         5722               670   \n",
              "202007                         5011               609   \n",
              "\n",
              "CLASIFICACION_DEF  Criterio investigacion epidemiologica  \\\n",
              "FECHA_YM                                                   \n",
              "202003                                                25   \n",
              "202004                                               499   \n",
              "202005                                              1427   \n",
              "202006                                              1707   \n",
              "202007                                              1512   \n",
              "\n",
              "CLASIFICACION_DEF  Criterio nexo epidemiologico  Criterio radiologico  \\\n",
              "FECHA_YM                                                                \n",
              "202003                                        2                     7   \n",
              "202004                                       68                   182   \n",
              "202005                                      203                   480   \n",
              "202006                                      251                   391   \n",
              "202007                                      262                   415   \n",
              "\n",
              "CLASIFICACION_DEF  Criterio serologico  Criterio virologico  \n",
              "FECHA_YM                                                     \n",
              "202003                               2                   58  \n",
              "202004                             778                 1273  \n",
              "202005                            3233                 3043  \n",
              "202006                            5604                 3117  \n",
              "202007                            7503                 3190  "
            ],
            "text/html": [
              "\n",
              "  <div id=\"df-891caee2-2cb8-48a7-93f6-53ed9d3faada\">\n",
              "    <div class=\"colab-df-container\">\n",
              "      <div>\n",
              "<style scoped>\n",
              "    .dataframe tbody tr th:only-of-type {\n",
              "        vertical-align: middle;\n",
              "    }\n",
              "\n",
              "    .dataframe tbody tr th {\n",
              "        vertical-align: top;\n",
              "    }\n",
              "\n",
              "    .dataframe thead th {\n",
              "        text-align: right;\n",
              "    }\n",
              "</style>\n",
              "<table border=\"1\" class=\"dataframe\">\n",
              "  <thead>\n",
              "    <tr style=\"text-align: right;\">\n",
              "      <th>CLASIFICACION_DEF</th>\n",
              "      <th>Criterio SINADEF</th>\n",
              "      <th>Criterio clinico</th>\n",
              "      <th>Criterio investigacion epidemiologica</th>\n",
              "      <th>Criterio nexo epidemiologico</th>\n",
              "      <th>Criterio radiologico</th>\n",
              "      <th>Criterio serologico</th>\n",
              "      <th>Criterio virologico</th>\n",
              "    </tr>\n",
              "    <tr>\n",
              "      <th>FECHA_YM</th>\n",
              "      <th></th>\n",
              "      <th></th>\n",
              "      <th></th>\n",
              "      <th></th>\n",
              "      <th></th>\n",
              "      <th></th>\n",
              "      <th></th>\n",
              "    </tr>\n",
              "  </thead>\n",
              "  <tbody>\n",
              "    <tr>\n",
              "      <th>202003</th>\n",
              "      <td>35</td>\n",
              "      <td>52</td>\n",
              "      <td>25</td>\n",
              "      <td>2</td>\n",
              "      <td>7</td>\n",
              "      <td>2</td>\n",
              "      <td>58</td>\n",
              "    </tr>\n",
              "    <tr>\n",
              "      <th>202004</th>\n",
              "      <td>1792</td>\n",
              "      <td>543</td>\n",
              "      <td>499</td>\n",
              "      <td>68</td>\n",
              "      <td>182</td>\n",
              "      <td>778</td>\n",
              "      <td>1273</td>\n",
              "    </tr>\n",
              "    <tr>\n",
              "      <th>202005</th>\n",
              "      <td>6823</td>\n",
              "      <td>1154</td>\n",
              "      <td>1427</td>\n",
              "      <td>203</td>\n",
              "      <td>480</td>\n",
              "      <td>3233</td>\n",
              "      <td>3043</td>\n",
              "    </tr>\n",
              "    <tr>\n",
              "      <th>202006</th>\n",
              "      <td>5722</td>\n",
              "      <td>670</td>\n",
              "      <td>1707</td>\n",
              "      <td>251</td>\n",
              "      <td>391</td>\n",
              "      <td>5604</td>\n",
              "      <td>3117</td>\n",
              "    </tr>\n",
              "    <tr>\n",
              "      <th>202007</th>\n",
              "      <td>5011</td>\n",
              "      <td>609</td>\n",
              "      <td>1512</td>\n",
              "      <td>262</td>\n",
              "      <td>415</td>\n",
              "      <td>7503</td>\n",
              "      <td>3190</td>\n",
              "    </tr>\n",
              "  </tbody>\n",
              "</table>\n",
              "</div>\n",
              "      <button class=\"colab-df-convert\" onclick=\"convertToInteractive('df-891caee2-2cb8-48a7-93f6-53ed9d3faada')\"\n",
              "              title=\"Convert this dataframe to an interactive table.\"\n",
              "              style=\"display:none;\">\n",
              "        \n",
              "  <svg xmlns=\"http://www.w3.org/2000/svg\" height=\"24px\"viewBox=\"0 0 24 24\"\n",
              "       width=\"24px\">\n",
              "    <path d=\"M0 0h24v24H0V0z\" fill=\"none\"/>\n",
              "    <path d=\"M18.56 5.44l.94 2.06.94-2.06 2.06-.94-2.06-.94-.94-2.06-.94 2.06-2.06.94zm-11 1L8.5 8.5l.94-2.06 2.06-.94-2.06-.94L8.5 2.5l-.94 2.06-2.06.94zm10 10l.94 2.06.94-2.06 2.06-.94-2.06-.94-.94-2.06-.94 2.06-2.06.94z\"/><path d=\"M17.41 7.96l-1.37-1.37c-.4-.4-.92-.59-1.43-.59-.52 0-1.04.2-1.43.59L10.3 9.45l-7.72 7.72c-.78.78-.78 2.05 0 2.83L4 21.41c.39.39.9.59 1.41.59.51 0 1.02-.2 1.41-.59l7.78-7.78 2.81-2.81c.8-.78.8-2.07 0-2.86zM5.41 20L4 18.59l7.72-7.72 1.47 1.35L5.41 20z\"/>\n",
              "  </svg>\n",
              "      </button>\n",
              "      \n",
              "  <style>\n",
              "    .colab-df-container {\n",
              "      display:flex;\n",
              "      flex-wrap:wrap;\n",
              "      gap: 12px;\n",
              "    }\n",
              "\n",
              "    .colab-df-convert {\n",
              "      background-color: #E8F0FE;\n",
              "      border: none;\n",
              "      border-radius: 50%;\n",
              "      cursor: pointer;\n",
              "      display: none;\n",
              "      fill: #1967D2;\n",
              "      height: 32px;\n",
              "      padding: 0 0 0 0;\n",
              "      width: 32px;\n",
              "    }\n",
              "\n",
              "    .colab-df-convert:hover {\n",
              "      background-color: #E2EBFA;\n",
              "      box-shadow: 0px 1px 2px rgba(60, 64, 67, 0.3), 0px 1px 3px 1px rgba(60, 64, 67, 0.15);\n",
              "      fill: #174EA6;\n",
              "    }\n",
              "\n",
              "    [theme=dark] .colab-df-convert {\n",
              "      background-color: #3B4455;\n",
              "      fill: #D2E3FC;\n",
              "    }\n",
              "\n",
              "    [theme=dark] .colab-df-convert:hover {\n",
              "      background-color: #434B5C;\n",
              "      box-shadow: 0px 1px 3px 1px rgba(0, 0, 0, 0.15);\n",
              "      filter: drop-shadow(0px 1px 2px rgba(0, 0, 0, 0.3));\n",
              "      fill: #FFFFFF;\n",
              "    }\n",
              "  </style>\n",
              "\n",
              "      <script>\n",
              "        const buttonEl =\n",
              "          document.querySelector('#df-891caee2-2cb8-48a7-93f6-53ed9d3faada button.colab-df-convert');\n",
              "        buttonEl.style.display =\n",
              "          google.colab.kernel.accessAllowed ? 'block' : 'none';\n",
              "\n",
              "        async function convertToInteractive(key) {\n",
              "          const element = document.querySelector('#df-891caee2-2cb8-48a7-93f6-53ed9d3faada');\n",
              "          const dataTable =\n",
              "            await google.colab.kernel.invokeFunction('convertToInteractive',\n",
              "                                                     [key], {});\n",
              "          if (!dataTable) return;\n",
              "\n",
              "          const docLinkHtml = 'Like what you see? Visit the ' +\n",
              "            '<a target=\"_blank\" href=https://colab.research.google.com/notebooks/data_table.ipynb>data table notebook</a>'\n",
              "            + ' to learn more about interactive tables.';\n",
              "          element.innerHTML = '';\n",
              "          dataTable['output_type'] = 'display_data';\n",
              "          await google.colab.output.renderOutput(dataTable, element);\n",
              "          const docLink = document.createElement('div');\n",
              "          docLink.innerHTML = docLinkHtml;\n",
              "          element.appendChild(docLink);\n",
              "        }\n",
              "      </script>\n",
              "    </div>\n",
              "  </div>\n",
              "  "
            ]
          },
          "metadata": {},
          "execution_count": 81
        }
      ]
    },
    {
      "cell_type": "code",
      "source": [
        "fechas = dfClasificacion.index.tolist()\n",
        "print(fechas)"
      ],
      "metadata": {
        "colab": {
          "base_uri": "https://localhost:8080/"
        },
        "id": "VkKiuQCGlbE-",
        "outputId": "39b2f1ca-2147-4b55-b826-2d96a4a8988b"
      },
      "execution_count": null,
      "outputs": [
        {
          "output_type": "stream",
          "name": "stdout",
          "text": [
            "['202003', '202004', '202005', '202006', '202007', '202008', '202009', '202010', '202011', '202012', '202101', '202102', '202103', '202104', '202105', '202106', '202107', '202108', '202109', '202110', '202111', '202112', '202201', '202202', '202203', '202204', '202205', '202206', '202207', '202208', '202209', '202210', '202211', '202212', '202301', '202302', '202303']\n"
          ]
        }
      ]
    },
    {
      "cell_type": "code",
      "source": [
        "dfClasificacion_dic = dfClasificacion.to_dict('list')\n",
        "valores = dfClasificacion_dic.values()\n",
        "valores"
      ],
      "metadata": {
        "colab": {
          "base_uri": "https://localhost:8080/"
        },
        "id": "fNGW5Z0flbHk",
        "outputId": "b0bd9ed4-06bd-4e4d-ecc9-95758cb3f50f"
      },
      "execution_count": null,
      "outputs": [
        {
          "output_type": "execute_result",
          "data": {
            "text/plain": [
              "dict_values([[35, 1792, 6823, 5722, 5011, 4590, 1984, 1093, 704, 801, 2190, 4993, 6097, 7450, 5225, 2726, 1025, 580, 556, 469, 444, 589, 1898, 1605, 352, 130, 85, 80, 299, 403, 153, 56, 53, 155, 5, 6, 0], [52, 543, 1154, 670, 609, 610, 476, 463, 462, 549, 514, 501, 527, 750, 628, 114, 113, 75, 12, 12, 17, 8, 22, 20, 6, 9, 3, 3, 3, 6, 12, 57, 0, 0, 541, 0, 0], [25, 499, 1427, 1707, 1512, 1459, 755, 469, 307, 171, 323, 465, 517, 591, 349, 123, 67, 22, 0, 0, 0, 0, 0, 0, 0, 0, 0, 0, 0, 0, 0, 0, 0, 0, 0, 0, 0], [2, 68, 203, 251, 262, 209, 105, 50, 37, 41, 107, 150, 229, 246, 155, 51, 35, 15, 0, 0, 0, 0, 0, 0, 0, 0, 0, 0, 0, 0, 0, 0, 0, 0, 0, 0, 0], [7, 182, 480, 391, 415, 534, 233, 172, 186, 179, 434, 556, 456, 363, 283, 138, 68, 36, 0, 0, 0, 0, 0, 0, 0, 0, 0, 0, 0, 0, 0, 0, 0, 0, 0, 0, 0], [2, 778, 3233, 5604, 7503, 7398, 3483, 1417, 867, 1048, 2449, 2539, 1703, 1488, 1175, 746, 523, 287, 190, 148, 157, 132, 41, 1, 0, 0, 0, 0, 0, 0, 0, 0, 0, 0, 0, 0, 0], [58, 1273, 3043, 3117, 3190, 2869, 1402, 808, 666, 1097, 5160, 9441, 11160, 12223, 8877, 3825, 1652, 838, 385, 439, 495, 559, 1613, 1882, 941, 600, 537, 456, 727, 1016, 722, 316, 336, 663, 34, 305, 4]])"
            ]
          },
          "metadata": {},
          "execution_count": 83
        }
      ]
    },
    {
      "cell_type": "code",
      "source": [
        "keyList = dfClasificacion.to_dict('list').keys()\n",
        "keyList"
      ],
      "metadata": {
        "colab": {
          "base_uri": "https://localhost:8080/"
        },
        "id": "tbA3tu1Krgmu",
        "outputId": "5a8b6ce3-da16-41c2-8293-b2a954f5ab03"
      },
      "execution_count": null,
      "outputs": [
        {
          "output_type": "execute_result",
          "data": {
            "text/plain": [
              "dict_keys(['Criterio SINADEF', 'Criterio clinico', 'Criterio investigacion epidemiologica', 'Criterio nexo epidemiologico', 'Criterio radiologico', 'Criterio serologico', 'Criterio virologico'])"
            ]
          },
          "metadata": {},
          "execution_count": 84
        }
      ]
    },
    {
      "cell_type": "code",
      "source": [
        "import matplotlib.pyplot as plt\n",
        "\n",
        "fig, ax = plt.subplots(1, 1, figsize=(12,6))\n",
        "ax.stackplot(fechas, valores, labels = keyList, alpha=0.8)\n",
        "\n",
        "ax.legend(loc='upper right')\n",
        "ax.set_title('Fallecidos COVID al 04.03.2023')\n",
        "ax.set_xlabel('Fechas')\n",
        "ax.set_ylabel('Cantidad Fallecidos')\n",
        "\n",
        "ax.set_xticklabels(fechas, rotation=90)\n",
        "\n",
        "plt.show()"
      ],
      "metadata": {
        "colab": {
          "base_uri": "https://localhost:8080/",
          "height": 468
        },
        "id": "zJ_1tYSskufC",
        "outputId": "256596da-e701-49bc-fdee-d67726a2c494"
      },
      "execution_count": null,
      "outputs": [
        {
          "output_type": "stream",
          "name": "stderr",
          "text": [
            "<ipython-input-85-11f908d0744d>:11: UserWarning: FixedFormatter should only be used together with FixedLocator\n",
            "  ax.set_xticklabels(fechas, rotation=90)\n"
          ]
        },
        {
          "output_type": "display_data",
          "data": {
            "text/plain": [
              "<Figure size 864x432 with 1 Axes>"
            ],
            "image/png": "[encoded data removed]"
          },
          "metadata": {
            "needs_background": "light"
          }
        }
      ]
    },
    {
      "cell_type": "code",
      "source": [],
      "metadata": {
        "id": "oAK2o9G4kxG9"
      },
      "execution_count": null,
      "outputs": []
    },
    {
      "cell_type": "markdown",
      "source": [
        "## 3. Fallecimiento por Edades en el Tiempo"
      ],
      "metadata": {
        "id": "g53ycc_KG4L6"
      }
    },
    {
      "cell_type": "code",
      "source": [
        "dfCovid.info()"
      ],
      "metadata": {
        "id": "SwBfjfjemha9",
        "colab": {
          "base_uri": "https://localhost:8080/"
        },
        "outputId": "278e5272-2ea0-4f17-d587-6bfa90509686"
      },
      "execution_count": null,
      "outputs": [
        {
          "output_type": "stream",
          "name": "stdout",
          "text": [
            "<class 'pandas.core.frame.DataFrame'>\n",
            "RangeIndex: 219478 entries, 0 to 219477\n",
            "Data columns (total 11 columns):\n",
            " #   Column               Non-Null Count   Dtype  \n",
            "---  ------               --------------   -----  \n",
            " 0   FECHA_CORTE          219478 non-null  int64  \n",
            " 1   FECHA_FALLECIMIENTO  219478 non-null  object \n",
            " 2   EDAD_DECLARADA       219474 non-null  float64\n",
            " 3   SEXO                 219478 non-null  object \n",
            " 4   CLASIFICACION_DEF    219478 non-null  object \n",
            " 5   DEPARTAMENTO         219478 non-null  object \n",
            " 6   PROVINCIA            219473 non-null  object \n",
            " 7   DISTRITO             219473 non-null  object \n",
            " 8   UBIGEO               219478 non-null  object \n",
            " 9   UUID                 216814 non-null  float64\n",
            " 10  FECHA_YM             219478 non-null  object \n",
            "dtypes: float64(2), int64(1), object(8)\n",
            "memory usage: 18.4+ MB\n"
          ]
        }
      ]
    },
    {
      "cell_type": "code",
      "source": [
        "dfCovid['EDAD_DECLARADA'] = dfCovid['EDAD_DECLARADA'].astype(str)\n",
        "dfCovid.info()"
      ],
      "metadata": {
        "colab": {
          "base_uri": "https://localhost:8080/"
        },
        "id": "nNo32B-iHhoe",
        "outputId": "b5d54e78-9d36-449d-a9fb-3f98065b0310"
      },
      "execution_count": null,
      "outputs": [
        {
          "output_type": "stream",
          "name": "stdout",
          "text": [
            "<class 'pandas.core.frame.DataFrame'>\n",
            "RangeIndex: 219478 entries, 0 to 219477\n",
            "Data columns (total 11 columns):\n",
            " #   Column               Non-Null Count   Dtype  \n",
            "---  ------               --------------   -----  \n",
            " 0   FECHA_CORTE          219478 non-null  int64  \n",
            " 1   FECHA_FALLECIMIENTO  219478 non-null  object \n",
            " 2   EDAD_DECLARADA       219478 non-null  object \n",
            " 3   SEXO                 219478 non-null  object \n",
            " 4   CLASIFICACION_DEF    219478 non-null  object \n",
            " 5   DEPARTAMENTO         219478 non-null  object \n",
            " 6   PROVINCIA            219473 non-null  object \n",
            " 7   DISTRITO             219473 non-null  object \n",
            " 8   UBIGEO               219478 non-null  object \n",
            " 9   UUID                 216814 non-null  float64\n",
            " 10  FECHA_YM             219478 non-null  object \n",
            "dtypes: float64(1), int64(1), object(9)\n",
            "memory usage: 18.4+ MB\n"
          ]
        }
      ]
    },
    {
      "cell_type": "code",
      "source": [
        "# Eliminamos el DECIMAL de la EDAD\n",
        "dfCovid['EDAD_DECLARADA'] = dfCovid['EDAD_DECLARADA'].apply(lambda x: x.split('.')[0] if(len(x.split('.'))>1) else x)"
      ],
      "metadata": {
        "id": "PX4ee7FlJAWz"
      },
      "execution_count": null,
      "outputs": []
    },
    {
      "cell_type": "code",
      "source": [
        "dfCovid.dropna(subset=['EDAD_DECLARADA'], inplace=True)"
      ],
      "metadata": {
        "id": "g0QMwLQWOcyj"
      },
      "execution_count": null,
      "outputs": []
    },
    {
      "cell_type": "code",
      "source": [
        "row_nan_index = dfCovid[dfCovid.EDAD_DECLARADA=='nan'].index.tolist()\n",
        "print(row_nan_index)"
      ],
      "metadata": {
        "colab": {
          "base_uri": "https://localhost:8080/"
        },
        "id": "323qaZTEP1bE",
        "outputId": "b2d51ddc-3ded-412d-80b2-a2bc560ab229"
      },
      "execution_count": null,
      "outputs": [
        {
          "output_type": "stream",
          "name": "stdout",
          "text": [
            "[20428, 48307, 53857, 90719]\n"
          ]
        }
      ]
    },
    {
      "cell_type": "code",
      "source": [
        "dfCovid.drop(row_nan_index, inplace=True)"
      ],
      "metadata": {
        "id": "tVSoh1FiQXn5"
      },
      "execution_count": null,
      "outputs": []
    },
    {
      "cell_type": "code",
      "source": [
        "dfCovid['EDAD_DECLARADA'] = dfCovid['EDAD_DECLARADA'].astype(int)\n",
        "dfCovid.info()"
      ],
      "metadata": {
        "colab": {
          "base_uri": "https://localhost:8080/"
        },
        "id": "xp2f7dNHIGzd",
        "outputId": "31bf45b5-ce58-4abc-97d1-88fdec1484aa"
      },
      "execution_count": null,
      "outputs": [
        {
          "output_type": "stream",
          "name": "stdout",
          "text": [
            "<class 'pandas.core.frame.DataFrame'>\n",
            "Int64Index: 219474 entries, 0 to 219477\n",
            "Data columns (total 11 columns):\n",
            " #   Column               Non-Null Count   Dtype  \n",
            "---  ------               --------------   -----  \n",
            " 0   FECHA_CORTE          219474 non-null  int64  \n",
            " 1   FECHA_FALLECIMIENTO  219474 non-null  object \n",
            " 2   EDAD_DECLARADA       219474 non-null  int64  \n",
            " 3   SEXO                 219474 non-null  object \n",
            " 4   CLASIFICACION_DEF    219474 non-null  object \n",
            " 5   DEPARTAMENTO         219474 non-null  object \n",
            " 6   PROVINCIA            219469 non-null  object \n",
            " 7   DISTRITO             219469 non-null  object \n",
            " 8   UBIGEO               219474 non-null  object \n",
            " 9   UUID                 216810 non-null  float64\n",
            " 10  FECHA_YM             219474 non-null  object \n",
            "dtypes: float64(1), int64(2), object(8)\n",
            "memory usage: 20.1+ MB\n"
          ]
        }
      ]
    },
    {
      "cell_type": "code",
      "source": [
        "dfEdad = dfCovid.groupby(['EDAD_DECLARADA'])['EDAD_DECLARADA'].count()\n",
        "dfEdad = dfEdad.to_frame()\n",
        "dfEdad.columns = ['CANTIDAD']\n",
        "dfEdad.reset_index(inplace=True)\n",
        "dfEdad.sort_values(by=['EDAD_DECLARADA'], inplace=True)\n",
        "dfEdad"
      ],
      "metadata": {
        "colab": {
          "base_uri": "https://localhost:8080/",
          "height": 424
        },
        "id": "u-PFKcjoKesc",
        "outputId": "50baa2df-6370-4090-cde8-ff27b857dc13"
      },
      "execution_count": null,
      "outputs": [
        {
          "output_type": "execute_result",
          "data": {
            "text/plain": [
              "     EDAD_DECLARADA  CANTIDAD\n",
              "0                 0       250\n",
              "1                 1       192\n",
              "2                 2       102\n",
              "3                 3        66\n",
              "4                 4        71\n",
              "..              ...       ...\n",
              "108             108         7\n",
              "109             109         2\n",
              "110             110         2\n",
              "111             113         2\n",
              "112             114         1\n",
              "\n",
              "[113 rows x 2 columns]"
            ],
            "text/html": [
              "\n",
              "  <div id=\"df-479190a3-ed7a-4f6e-8406-43c202f1a0c1\">\n",
              "    <div class=\"colab-df-container\">\n",
              "      <div>\n",
              "<style scoped>\n",
              "    .dataframe tbody tr th:only-of-type {\n",
              "        vertical-align: middle;\n",
              "    }\n",
              "\n",
              "    .dataframe tbody tr th {\n",
              "        vertical-align: top;\n",
              "    }\n",
              "\n",
              "    .dataframe thead th {\n",
              "        text-align: right;\n",
              "    }\n",
              "</style>\n",
              "<table border=\"1\" class=\"dataframe\">\n",
              "  <thead>\n",
              "    <tr style=\"text-align: right;\">\n",
              "      <th></th>\n",
              "      <th>EDAD_DECLARADA</th>\n",
              "      <th>CANTIDAD</th>\n",
              "    </tr>\n",
              "  </thead>\n",
              "  <tbody>\n",
              "    <tr>\n",
              "      <th>0</th>\n",
              "      <td>0</td>\n",
              "      <td>250</td>\n",
              "    </tr>\n",
              "    <tr>\n",
              "      <th>1</th>\n",
              "      <td>1</td>\n",
              "      <td>192</td>\n",
              "    </tr>\n",
              "    <tr>\n",
              "      <th>2</th>\n",
              "      <td>2</td>\n",
              "      <td>102</td>\n",
              "    </tr>\n",
              "    <tr>\n",
              "      <th>3</th>\n",
              "      <td>3</td>\n",
              "      <td>66</td>\n",
              "    </tr>\n",
              "    <tr>\n",
              "      <th>4</th>\n",
              "      <td>4</td>\n",
              "      <td>71</td>\n",
              "    </tr>\n",
              "    <tr>\n",
              "      <th>...</th>\n",
              "      <td>...</td>\n",
              "      <td>...</td>\n",
              "    </tr>\n",
              "    <tr>\n",
              "      <th>108</th>\n",
              "      <td>108</td>\n",
              "      <td>7</td>\n",
              "    </tr>\n",
              "    <tr>\n",
              "      <th>109</th>\n",
              "      <td>109</td>\n",
              "      <td>2</td>\n",
              "    </tr>\n",
              "    <tr>\n",
              "      <th>110</th>\n",
              "      <td>110</td>\n",
              "      <td>2</td>\n",
              "    </tr>\n",
              "    <tr>\n",
              "      <th>111</th>\n",
              "      <td>113</td>\n",
              "      <td>2</td>\n",
              "    </tr>\n",
              "    <tr>\n",
              "      <th>112</th>\n",
              "      <td>114</td>\n",
              "      <td>1</td>\n",
              "    </tr>\n",
              "  </tbody>\n",
              "</table>\n",
              "<p>113 rows × 2 columns</p>\n",
              "</div>\n",
              "      <button class=\"colab-df-convert\" onclick=\"convertToInteractive('df-479190a3-ed7a-4f6e-8406-43c202f1a0c1')\"\n",
              "              title=\"Convert this dataframe to an interactive table.\"\n",
              "              style=\"display:none;\">\n",
              "        \n",
              "  <svg xmlns=\"http://www.w3.org/2000/svg\" height=\"24px\"viewBox=\"0 0 24 24\"\n",
              "       width=\"24px\">\n",
              "    <path d=\"M0 0h24v24H0V0z\" fill=\"none\"/>\n",
              "    <path d=\"M18.56 5.44l.94 2.06.94-2.06 2.06-.94-2.06-.94-.94-2.06-.94 2.06-2.06.94zm-11 1L8.5 8.5l.94-2.06 2.06-.94-2.06-.94L8.5 2.5l-.94 2.06-2.06.94zm10 10l.94 2.06.94-2.06 2.06-.94-2.06-.94-.94-2.06-.94 2.06-2.06.94z\"/><path d=\"M17.41 7.96l-1.37-1.37c-.4-.4-.92-.59-1.43-.59-.52 0-1.04.2-1.43.59L10.3 9.45l-7.72 7.72c-.78.78-.78 2.05 0 2.83L4 21.41c.39.39.9.59 1.41.59.51 0 1.02-.2 1.41-.59l7.78-7.78 2.81-2.81c.8-.78.8-2.07 0-2.86zM5.41 20L4 18.59l7.72-7.72 1.47 1.35L5.41 20z\"/>\n",
              "  </svg>\n",
              "      </button>\n",
              "      \n",
              "  <style>\n",
              "    .colab-df-container {\n",
              "      display:flex;\n",
              "      flex-wrap:wrap;\n",
              "      gap: 12px;\n",
              "    }\n",
              "\n",
              "    .colab-df-convert {\n",
              "      background-color: #E8F0FE;\n",
              "      border: none;\n",
              "      border-radius: 50%;\n",
              "      cursor: pointer;\n",
              "      display: none;\n",
              "      fill: #1967D2;\n",
              "      height: 32px;\n",
              "      padding: 0 0 0 0;\n",
              "      width: 32px;\n",
              "    }\n",
              "\n",
              "    .colab-df-convert:hover {\n",
              "      background-color: #E2EBFA;\n",
              "      box-shadow: 0px 1px 2px rgba(60, 64, 67, 0.3), 0px 1px 3px 1px rgba(60, 64, 67, 0.15);\n",
              "      fill: #174EA6;\n",
              "    }\n",
              "\n",
              "    [theme=dark] .colab-df-convert {\n",
              "      background-color: #3B4455;\n",
              "      fill: #D2E3FC;\n",
              "    }\n",
              "\n",
              "    [theme=dark] .colab-df-convert:hover {\n",
              "      background-color: #434B5C;\n",
              "      box-shadow: 0px 1px 3px 1px rgba(0, 0, 0, 0.15);\n",
              "      filter: drop-shadow(0px 1px 2px rgba(0, 0, 0, 0.3));\n",
              "      fill: #FFFFFF;\n",
              "    }\n",
              "  </style>\n",
              "\n",
              "      <script>\n",
              "        const buttonEl =\n",
              "          document.querySelector('#df-479190a3-ed7a-4f6e-8406-43c202f1a0c1 button.colab-df-convert');\n",
              "        buttonEl.style.display =\n",
              "          google.colab.kernel.accessAllowed ? 'block' : 'none';\n",
              "\n",
              "        async function convertToInteractive(key) {\n",
              "          const element = document.querySelector('#df-479190a3-ed7a-4f6e-8406-43c202f1a0c1');\n",
              "          const dataTable =\n",
              "            await google.colab.kernel.invokeFunction('convertToInteractive',\n",
              "                                                     [key], {});\n",
              "          if (!dataTable) return;\n",
              "\n",
              "          const docLinkHtml = 'Like what you see? Visit the ' +\n",
              "            '<a target=\"_blank\" href=https://colab.research.google.com/notebooks/data_table.ipynb>data table notebook</a>'\n",
              "            + ' to learn more about interactive tables.';\n",
              "          element.innerHTML = '';\n",
              "          dataTable['output_type'] = 'display_data';\n",
              "          await google.colab.output.renderOutput(dataTable, element);\n",
              "          const docLink = document.createElement('div');\n",
              "          docLink.innerHTML = docLinkHtml;\n",
              "          element.appendChild(docLink);\n",
              "        }\n",
              "      </script>\n",
              "    </div>\n",
              "  </div>\n",
              "  "
            ]
          },
          "metadata": {},
          "execution_count": 93
        }
      ]
    },
    {
      "cell_type": "code",
      "source": [
        "import matplotlib.pyplot as plt\n",
        "\n",
        "# customized dict for our title\n",
        "font = {'family': 'sans-serif',\n",
        "        'color':  'darkred',\n",
        "        'weight': 'normal',\n",
        "        'size': 20,\n",
        "        }\n",
        "\n",
        "# Re-sizing plot area\n",
        "f = plt.figure()\n",
        "#f.set_figwidth(15)\n",
        "#f.set_figheight(10)\n",
        "\n",
        "# Adding a title and axis text\n",
        "plt.title(\"Fallecimientos COVID por Edades\", fontdict=font) # UPDATE: pass our dict as parameter\n",
        "plt.xlabel(\"Edad\")\n",
        "plt.ylabel(\"Cantidad (fallecidos)\")\n",
        "\n",
        "\n",
        "plt.plot(dfEdad.EDAD_DECLARADA.tolist(), dfEdad.CANTIDAD.tolist(), label='Fallecidos')\n",
        "#plt.plot(datoEdad.index.tolist(), datoEdad.F.tolist(), label='Mujeres')\n",
        "\n",
        "# add a legend (automatically)\n",
        "plt.legend()\n",
        "\n",
        "# adding grid\n",
        "plt.grid(True)\n",
        "\n",
        "# display\n",
        "plt.show()"
      ],
      "metadata": {
        "colab": {
          "base_uri": "https://localhost:8080/",
          "height": 300
        },
        "id": "RvpPwpmHKvEV",
        "outputId": "982f9d0c-2cf9-4485-f3d7-dc56c393066d"
      },
      "execution_count": null,
      "outputs": [
        {
          "output_type": "display_data",
          "data": {
            "text/plain": [
              "<Figure size 432x288 with 1 Axes>"
            ],
            "image/png": "[encoded data removed]"
          },
          "metadata": {
            "needs_background": "light"
          }
        }
      ]
    },
    {
      "cell_type": "code",
      "source": [],
      "metadata": {
        "id": "f5QYDN-yL8t4"
      },
      "execution_count": null,
      "outputs": []
    },
    {
      "cell_type": "code",
      "source": [],
      "metadata": {
        "id": "Js2eBoEoKvGd"
      },
      "execution_count": null,
      "outputs": []
    },
    {
      "cell_type": "code",
      "source": [
        "cond_menores10 = dfCovid['EDAD_DECLARADA']<11\n",
        "dfCovid_m10 = dfCovid[cond_menores10]"
      ],
      "metadata": {
        "id": "sLD6j2CEMbFF"
      },
      "execution_count": null,
      "outputs": []
    },
    {
      "cell_type": "code",
      "source": [
        "dfCovid_m10.head()"
      ],
      "metadata": {
        "colab": {
          "base_uri": "https://localhost:8080/",
          "height": 305
        },
        "id": "NZVo503TML2J",
        "outputId": "e1d81cc9-7698-4792-bcb2-4775c0015373"
      },
      "execution_count": null,
      "outputs": [
        {
          "output_type": "execute_result",
          "data": {
            "text/plain": [
              "      FECHA_CORTE FECHA_FALLECIMIENTO  EDAD_DECLARADA       SEXO  \\\n",
              "1517     20230301            20210408               1  MASCULINO   \n",
              "3436     20230301            20210823               9  MASCULINO   \n",
              "5326     20230301            20210718               4   FEMENINO   \n",
              "5679     20230301            20211106              10   FEMENINO   \n",
              "6358     20230301            20210722               7  MASCULINO   \n",
              "\n",
              "        CLASIFICACION_DEF DEPARTAMENTO    PROVINCIA                DISTRITO  \\\n",
              "1517     Criterio SINADEF         LIMA         LIMA  SAN JUAN DE MIRAFLORES   \n",
              "3436  Criterio serologico        JUNIN  CHANCHAMAYO              PICHANAQUI   \n",
              "5326  Criterio virologico         LIMA         LIMA    SAN MARTIN DE PORRES   \n",
              "5679  Criterio virologico    CAJAMARCA    HUALGAYOC              BAMBAMARCA   \n",
              "6358     Criterio SINADEF   LAMBAYEQUE     CHICLAYO                CHICLAYO   \n",
              "\n",
              "      UBIGEO        UUID FECHA_YM  \n",
              "1517  150133  14341040.0   202104  \n",
              "3436  120303  15210481.0   202108  \n",
              "5326  150135  15759917.0   202107  \n",
              "5679  060701  15845187.0   202111  \n",
              "6358  140101  16013447.0   202107  "
            ],
            "text/html": [
              "\n",
              "  <div id=\"df-84b4942a-facf-4a84-852e-d9471f0f90c6\">\n",
              "    <div class=\"colab-df-container\">\n",
              "      <div>\n",
              "<style scoped>\n",
              "    .dataframe tbody tr th:only-of-type {\n",
              "        vertical-align: middle;\n",
              "    }\n",
              "\n",
              "    .dataframe tbody tr th {\n",
              "        vertical-align: top;\n",
              "    }\n",
              "\n",
              "    .dataframe thead th {\n",
              "        text-align: right;\n",
              "    }\n",
              "</style>\n",
              "<table border=\"1\" class=\"dataframe\">\n",
              "  <thead>\n",
              "    <tr style=\"text-align: right;\">\n",
              "      <th></th>\n",
              "      <th>FECHA_CORTE</th>\n",
              "      <th>FECHA_FALLECIMIENTO</th>\n",
              "      <th>EDAD_DECLARADA</th>\n",
              "      <th>SEXO</th>\n",
              "      <th>CLASIFICACION_DEF</th>\n",
              "      <th>DEPARTAMENTO</th>\n",
              "      <th>PROVINCIA</th>\n",
              "      <th>DISTRITO</th>\n",
              "      <th>UBIGEO</th>\n",
              "      <th>UUID</th>\n",
              "      <th>FECHA_YM</th>\n",
              "    </tr>\n",
              "  </thead>\n",
              "  <tbody>\n",
              "    <tr>\n",
              "      <th>1517</th>\n",
              "      <td>20230301</td>\n",
              "      <td>20210408</td>\n",
              "      <td>1</td>\n",
              "      <td>MASCULINO</td>\n",
              "      <td>Criterio SINADEF</td>\n",
              "      <td>LIMA</td>\n",
              "      <td>LIMA</td>\n",
              "      <td>SAN JUAN DE MIRAFLORES</td>\n",
              "      <td>150133</td>\n",
              "      <td>14341040.0</td>\n",
              "      <td>202104</td>\n",
              "    </tr>\n",
              "    <tr>\n",
              "      <th>3436</th>\n",
              "      <td>20230301</td>\n",
              "      <td>20210823</td>\n",
              "      <td>9</td>\n",
              "      <td>MASCULINO</td>\n",
              "      <td>Criterio serologico</td>\n",
              "      <td>JUNIN</td>\n",
              "      <td>CHANCHAMAYO</td>\n",
              "      <td>PICHANAQUI</td>\n",
              "      <td>120303</td>\n",
              "      <td>15210481.0</td>\n",
              "      <td>202108</td>\n",
              "    </tr>\n",
              "    <tr>\n",
              "      <th>5326</th>\n",
              "      <td>20230301</td>\n",
              "      <td>20210718</td>\n",
              "      <td>4</td>\n",
              "      <td>FEMENINO</td>\n",
              "      <td>Criterio virologico</td>\n",
              "      <td>LIMA</td>\n",
              "      <td>LIMA</td>\n",
              "      <td>SAN MARTIN DE PORRES</td>\n",
              "      <td>150135</td>\n",
              "      <td>15759917.0</td>\n",
              "      <td>202107</td>\n",
              "    </tr>\n",
              "    <tr>\n",
              "      <th>5679</th>\n",
              "      <td>20230301</td>\n",
              "      <td>20211106</td>\n",
              "      <td>10</td>\n",
              "      <td>FEMENINO</td>\n",
              "      <td>Criterio virologico</td>\n",
              "      <td>CAJAMARCA</td>\n",
              "      <td>HUALGAYOC</td>\n",
              "      <td>BAMBAMARCA</td>\n",
              "      <td>060701</td>\n",
              "      <td>15845187.0</td>\n",
              "      <td>202111</td>\n",
              "    </tr>\n",
              "    <tr>\n",
              "      <th>6358</th>\n",
              "      <td>20230301</td>\n",
              "      <td>20210722</td>\n",
              "      <td>7</td>\n",
              "      <td>MASCULINO</td>\n",
              "      <td>Criterio SINADEF</td>\n",
              "      <td>LAMBAYEQUE</td>\n",
              "      <td>CHICLAYO</td>\n",
              "      <td>CHICLAYO</td>\n",
              "      <td>140101</td>\n",
              "      <td>16013447.0</td>\n",
              "      <td>202107</td>\n",
              "    </tr>\n",
              "  </tbody>\n",
              "</table>\n",
              "</div>\n",
              "      <button class=\"colab-df-convert\" onclick=\"convertToInteractive('df-84b4942a-facf-4a84-852e-d9471f0f90c6')\"\n",
              "              title=\"Convert this dataframe to an interactive table.\"\n",
              "              style=\"display:none;\">\n",
              "        \n",
              "  <svg xmlns=\"http://www.w3.org/2000/svg\" height=\"24px\"viewBox=\"0 0 24 24\"\n",
              "       width=\"24px\">\n",
              "    <path d=\"M0 0h24v24H0V0z\" fill=\"none\"/>\n",
              "    <path d=\"M18.56 5.44l.94 2.06.94-2.06 2.06-.94-2.06-.94-.94-2.06-.94 2.06-2.06.94zm-11 1L8.5 8.5l.94-2.06 2.06-.94-2.06-.94L8.5 2.5l-.94 2.06-2.06.94zm10 10l.94 2.06.94-2.06 2.06-.94-2.06-.94-.94-2.06-.94 2.06-2.06.94z\"/><path d=\"M17.41 7.96l-1.37-1.37c-.4-.4-.92-.59-1.43-.59-.52 0-1.04.2-1.43.59L10.3 9.45l-7.72 7.72c-.78.78-.78 2.05 0 2.83L4 21.41c.39.39.9.59 1.41.59.51 0 1.02-.2 1.41-.59l7.78-7.78 2.81-2.81c.8-.78.8-2.07 0-2.86zM5.41 20L4 18.59l7.72-7.72 1.47 1.35L5.41 20z\"/>\n",
              "  </svg>\n",
              "      </button>\n",
              "      \n",
              "  <style>\n",
              "    .colab-df-container {\n",
              "      display:flex;\n",
              "      flex-wrap:wrap;\n",
              "      gap: 12px;\n",
              "    }\n",
              "\n",
              "    .colab-df-convert {\n",
              "      background-color: #E8F0FE;\n",
              "      border: none;\n",
              "      border-radius: 50%;\n",
              "      cursor: pointer;\n",
              "      display: none;\n",
              "      fill: #1967D2;\n",
              "      height: 32px;\n",
              "      padding: 0 0 0 0;\n",
              "      width: 32px;\n",
              "    }\n",
              "\n",
              "    .colab-df-convert:hover {\n",
              "      background-color: #E2EBFA;\n",
              "      box-shadow: 0px 1px 2px rgba(60, 64, 67, 0.3), 0px 1px 3px 1px rgba(60, 64, 67, 0.15);\n",
              "      fill: #174EA6;\n",
              "    }\n",
              "\n",
              "    [theme=dark] .colab-df-convert {\n",
              "      background-color: #3B4455;\n",
              "      fill: #D2E3FC;\n",
              "    }\n",
              "\n",
              "    [theme=dark] .colab-df-convert:hover {\n",
              "      background-color: #434B5C;\n",
              "      box-shadow: 0px 1px 3px 1px rgba(0, 0, 0, 0.15);\n",
              "      filter: drop-shadow(0px 1px 2px rgba(0, 0, 0, 0.3));\n",
              "      fill: #FFFFFF;\n",
              "    }\n",
              "  </style>\n",
              "\n",
              "      <script>\n",
              "        const buttonEl =\n",
              "          document.querySelector('#df-84b4942a-facf-4a84-852e-d9471f0f90c6 button.colab-df-convert');\n",
              "        buttonEl.style.display =\n",
              "          google.colab.kernel.accessAllowed ? 'block' : 'none';\n",
              "\n",
              "        async function convertToInteractive(key) {\n",
              "          const element = document.querySelector('#df-84b4942a-facf-4a84-852e-d9471f0f90c6');\n",
              "          const dataTable =\n",
              "            await google.colab.kernel.invokeFunction('convertToInteractive',\n",
              "                                                     [key], {});\n",
              "          if (!dataTable) return;\n",
              "\n",
              "          const docLinkHtml = 'Like what you see? Visit the ' +\n",
              "            '<a target=\"_blank\" href=https://colab.research.google.com/notebooks/data_table.ipynb>data table notebook</a>'\n",
              "            + ' to learn more about interactive tables.';\n",
              "          element.innerHTML = '';\n",
              "          dataTable['output_type'] = 'display_data';\n",
              "          await google.colab.output.renderOutput(dataTable, element);\n",
              "          const docLink = document.createElement('div');\n",
              "          docLink.innerHTML = docLinkHtml;\n",
              "          element.appendChild(docLink);\n",
              "        }\n",
              "      </script>\n",
              "    </div>\n",
              "  </div>\n",
              "  "
            ]
          },
          "metadata": {},
          "execution_count": 101
        }
      ]
    },
    {
      "cell_type": "code",
      "source": [
        "dfCovid_m10_tiempo = dfCovid_m10.groupby(['FECHA_YM'])['FECHA_YM'].count().to_frame()\n",
        "dfCovid_m10_tiempo.columns = ['CANTIDAD']\n",
        "dfCovid_m10_tiempo.reset_index(inplace=True)\n",
        "dfCovid_m10_tiempo.head()"
      ],
      "metadata": {
        "id": "6vTg0Sg7VQ8s"
      },
      "execution_count": null,
      "outputs": []
    },
    {
      "cell_type": "code",
      "source": [
        "import plotly.express as px\n",
        "\n",
        "fig = px.line(dfCovid_m10_tiempo, x='FECHA_YM', y=dfCovid_m10_tiempo.columns, \n",
        "              hover_data={'FECHA_YM':'|%B %d, %Y'}, template = 'plotly_dark',\n",
        "              title='Fallecidos COVID Menores 10 años')\n",
        "fig.update_xaxes(\n",
        "    dtick='M1',\n",
        "    tickformat='%b\\n%Y',\n",
        "    ticklabelmode='period')\n",
        "\n",
        "fig.show()"
      ],
      "metadata": {
        "colab": {
          "base_uri": "https://localhost:8080/",
          "height": 542
        },
        "id": "5zMdU9BXWZRT",
        "outputId": "2dbe3e43-bbd0-4190-d359-3e8a6c64962d"
      },
      "execution_count": null,
      "outputs": [
        {
          "output_type": "display_data",
          "data": {
            "text/html": [
              "<html>\n",
              "<head><meta charset=\"utf-8\" /></head>\n",
              "<body>\n",
              "    <div>            <script src=\"https://cdnjs.cloudflare.com/ajax/libs/mathjax/2.7.5/MathJax.js?config=TeX-AMS-MML_SVG\"></script><script type=\"text/javascript\">if (window.MathJax) {MathJax.Hub.Config({SVG: {font: \"STIX-Web\"}});}</script>                <script type=\"text/javascript\">window.PlotlyConfig = {MathJaxConfig: 'local'};</script>\n",
              "        <script src=\"https://cdn.plot.ly/plotly-2.8.3.min.js\"></script>                <div id=\"9ac1798c-32ed-4e96-b04d-62ab13166626\" class=\"plotly-graph-div\" style=\"height:525px; width:100%;\"></div>            <script type=\"text/javascript\">                                    window.PLOTLYENV=window.PLOTLYENV || {};                                    if (document.getElementById(\"9ac1798c-32ed-4e96-b04d-62ab13166626\")) {                    Plotly.newPlot(                        \"9ac1798c-32ed-4e96-b04d-62ab13166626\",                        [{\"hovertemplate\":\"variable=CANTIDAD<br>FECHA_YM=%{x|%B %d, %Y}<br>value=%{y}<extra></extra>\",\"legendgroup\":\"CANTIDAD\",\"line\":{\"color\":\"#636efa\",\"dash\":\"solid\"},\"marker\":{\"symbol\":\"circle\"},\"mode\":\"lines\",\"name\":\"CANTIDAD\",\"orientation\":\"v\",\"showlegend\":true,\"x\":[\"202003\",\"202004\",\"202005\",\"202006\",\"202007\",\"202008\",\"202009\",\"202010\",\"202011\",\"202012\",\"202101\",\"202102\",\"202103\",\"202104\",\"202105\",\"202106\",\"202107\",\"202108\",\"202109\",\"202110\",\"202111\",\"202112\",\"202201\",\"202202\",\"202203\",\"202204\",\"202205\",\"202206\",\"202207\",\"202208\",\"202209\",\"202210\",\"202211\",\"202212\",\"202301\",\"202302\"],\"xaxis\":\"x\",\"y\":[6,28,68,67,72,79,57,32,30,32,32,41,60,49,53,17,22,15,8,8,12,10,57,51,12,17,10,15,17,29,15,5,9,10,14,1],\"yaxis\":\"y\",\"type\":\"scatter\"}],                        {\"template\":{\"data\":{\"barpolar\":[{\"marker\":{\"line\":{\"color\":\"rgb(17,17,17)\",\"width\":0.5},\"pattern\":{\"fillmode\":\"overlay\",\"size\":10,\"solidity\":0.2}},\"type\":\"barpolar\"}],\"bar\":[{\"error_x\":{\"color\":\"#f2f5fa\"},\"error_y\":{\"color\":\"#f2f5fa\"},\"marker\":{\"line\":{\"color\":\"rgb(17,17,17)\",\"width\":0.5},\"pattern\":{\"fillmode\":\"overlay\",\"size\":10,\"solidity\":0.2}},\"type\":\"bar\"}],\"carpet\":[{\"aaxis\":{\"endlinecolor\":\"#A2B1C6\",\"gridcolor\":\"#506784\",\"linecolor\":\"#506784\",\"minorgridcolor\":\"#506784\",\"startlinecolor\":\"#A2B1C6\"},\"baxis\":{\"endlinecolor\":\"#A2B1C6\",\"gridcolor\":\"#506784\",\"linecolor\":\"#506784\",\"minorgridcolor\":\"#506784\",\"startlinecolor\":\"#A2B1C6\"},\"type\":\"carpet\"}],\"choropleth\":[{\"colorbar\":{\"outlinewidth\":0,\"ticks\":\"\"},\"type\":\"choropleth\"}],\"contourcarpet\":[{\"colorbar\":{\"outlinewidth\":0,\"ticks\":\"\"},\"type\":\"contourcarpet\"}],\"contour\":[{\"colorbar\":{\"outlinewidth\":0,\"ticks\":\"\"},\"colorscale\":[[0.0,\"#0d0887\"],[0.1111111111111111,\"#46039f\"],[0.2222222222222222,\"#7201a8\"],[0.3333333333333333,\"#9c179e\"],[0.4444444444444444,\"#bd3786\"],[0.5555555555555556,\"#d8576b\"],[0.6666666666666666,\"#ed7953\"],[0.7777777777777778,\"#fb9f3a\"],[0.8888888888888888,\"#fdca26\"],[1.0,\"#f0f921\"]],\"type\":\"contour\"}],\"heatmapgl\":[{\"colorbar\":{\"outlinewidth\":0,\"ticks\":\"\"},\"colorscale\":[[0.0,\"#0d0887\"],[0.1111111111111111,\"#46039f\"],[0.2222222222222222,\"#7201a8\"],[0.3333333333333333,\"#9c179e\"],[0.4444444444444444,\"#bd3786\"],[0.5555555555555556,\"#d8576b\"],[0.6666666666666666,\"#ed7953\"],[0.7777777777777778,\"#fb9f3a\"],[0.8888888888888888,\"#fdca26\"],[1.0,\"#f0f921\"]],\"type\":\"heatmapgl\"}],\"heatmap\":[{\"colorbar\":{\"outlinewidth\":0,\"ticks\":\"\"},\"colorscale\":[[0.0,\"#0d0887\"],[0.1111111111111111,\"#46039f\"],[0.2222222222222222,\"#7201a8\"],[0.3333333333333333,\"#9c179e\"],[0.4444444444444444,\"#bd3786\"],[0.5555555555555556,\"#d8576b\"],[0.6666666666666666,\"#ed7953\"],[0.7777777777777778,\"#fb9f3a\"],[0.8888888888888888,\"#fdca26\"],[1.0,\"#f0f921\"]],\"type\":\"heatmap\"}],\"histogram2dcontour\":[{\"colorbar\":{\"outlinewidth\":0,\"ticks\":\"\"},\"colorscale\":[[0.0,\"#0d0887\"],[0.1111111111111111,\"#46039f\"],[0.2222222222222222,\"#7201a8\"],[0.3333333333333333,\"#9c179e\"],[0.4444444444444444,\"#bd3786\"],[0.5555555555555556,\"#d8576b\"],[0.6666666666666666,\"#ed7953\"],[0.7777777777777778,\"#fb9f3a\"],[0.8888888888888888,\"#fdca26\"],[1.0,\"#f0f921\"]],\"type\":\"histogram2dcontour\"}],\"histogram2d\":[{\"colorbar\":{\"outlinewidth\":0,\"ticks\":\"\"},\"colorscale\":[[0.0,\"#0d0887\"],[0.1111111111111111,\"#46039f\"],[0.2222222222222222,\"#7201a8\"],[0.3333333333333333,\"#9c179e\"],[0.4444444444444444,\"#bd3786\"],[0.5555555555555556,\"#d8576b\"],[0.6666666666666666,\"#ed7953\"],[0.7777777777777778,\"#fb9f3a\"],[0.8888888888888888,\"#fdca26\"],[1.0,\"#f0f921\"]],\"type\":\"histogram2d\"}],\"histogram\":[{\"marker\":{\"pattern\":{\"fillmode\":\"overlay\",\"size\":10,\"solidity\":0.2}},\"type\":\"histogram\"}],\"mesh3d\":[{\"colorbar\":{\"outlinewidth\":0,\"ticks\":\"\"},\"type\":\"mesh3d\"}],\"parcoords\":[{\"line\":{\"colorbar\":{\"outlinewidth\":0,\"ticks\":\"\"}},\"type\":\"parcoords\"}],\"pie\":[{\"automargin\":true,\"type\":\"pie\"}],\"scatter3d\":[{\"line\":{\"colorbar\":{\"outlinewidth\":0,\"ticks\":\"\"}},\"marker\":{\"colorbar\":{\"outlinewidth\":0,\"ticks\":\"\"}},\"type\":\"scatter3d\"}],\"scattercarpet\":[{\"marker\":{\"colorbar\":{\"outlinewidth\":0,\"ticks\":\"\"}},\"type\":\"scattercarpet\"}],\"scattergeo\":[{\"marker\":{\"colorbar\":{\"outlinewidth\":0,\"ticks\":\"\"}},\"type\":\"scattergeo\"}],\"scattergl\":[{\"marker\":{\"line\":{\"color\":\"#283442\"}},\"type\":\"scattergl\"}],\"scattermapbox\":[{\"marker\":{\"colorbar\":{\"outlinewidth\":0,\"ticks\":\"\"}},\"type\":\"scattermapbox\"}],\"scatterpolargl\":[{\"marker\":{\"colorbar\":{\"outlinewidth\":0,\"ticks\":\"\"}},\"type\":\"scatterpolargl\"}],\"scatterpolar\":[{\"marker\":{\"colorbar\":{\"outlinewidth\":0,\"ticks\":\"\"}},\"type\":\"scatterpolar\"}],\"scatter\":[{\"marker\":{\"line\":{\"color\":\"#283442\"}},\"type\":\"scatter\"}],\"scatterternary\":[{\"marker\":{\"colorbar\":{\"outlinewidth\":0,\"ticks\":\"\"}},\"type\":\"scatterternary\"}],\"surface\":[{\"colorbar\":{\"outlinewidth\":0,\"ticks\":\"\"},\"colorscale\":[[0.0,\"#0d0887\"],[0.1111111111111111,\"#46039f\"],[0.2222222222222222,\"#7201a8\"],[0.3333333333333333,\"#9c179e\"],[0.4444444444444444,\"#bd3786\"],[0.5555555555555556,\"#d8576b\"],[0.6666666666666666,\"#ed7953\"],[0.7777777777777778,\"#fb9f3a\"],[0.8888888888888888,\"#fdca26\"],[1.0,\"#f0f921\"]],\"type\":\"surface\"}],\"table\":[{\"cells\":{\"fill\":{\"color\":\"#506784\"},\"line\":{\"color\":\"rgb(17,17,17)\"}},\"header\":{\"fill\":{\"color\":\"#2a3f5f\"},\"line\":{\"color\":\"rgb(17,17,17)\"}},\"type\":\"table\"}]},\"layout\":{\"annotationdefaults\":{\"arrowcolor\":\"#f2f5fa\",\"arrowhead\":0,\"arrowwidth\":1},\"autotypenumbers\":\"strict\",\"coloraxis\":{\"colorbar\":{\"outlinewidth\":0,\"ticks\":\"\"}},\"colorscale\":{\"diverging\":[[0,\"#8e0152\"],[0.1,\"#c51b7d\"],[0.2,\"#de77ae\"],[0.3,\"#f1b6da\"],[0.4,\"#fde0ef\"],[0.5,\"#f7f7f7\"],[0.6,\"#e6f5d0\"],[0.7,\"#b8e186\"],[0.8,\"#7fbc41\"],[0.9,\"#4d9221\"],[1,\"#276419\"]],\"sequential\":[[0.0,\"#0d0887\"],[0.1111111111111111,\"#46039f\"],[0.2222222222222222,\"#7201a8\"],[0.3333333333333333,\"#9c179e\"],[0.4444444444444444,\"#bd3786\"],[0.5555555555555556,\"#d8576b\"],[0.6666666666666666,\"#ed7953\"],[0.7777777777777778,\"#fb9f3a\"],[0.8888888888888888,\"#fdca26\"],[1.0,\"#f0f921\"]],\"sequentialminus\":[[0.0,\"#0d0887\"],[0.1111111111111111,\"#46039f\"],[0.2222222222222222,\"#7201a8\"],[0.3333333333333333,\"#9c179e\"],[0.4444444444444444,\"#bd3786\"],[0.5555555555555556,\"#d8576b\"],[0.6666666666666666,\"#ed7953\"],[0.7777777777777778,\"#fb9f3a\"],[0.8888888888888888,\"#fdca26\"],[1.0,\"#f0f921\"]]},\"colorway\":[\"#636efa\",\"#EF553B\",\"#00cc96\",\"#ab63fa\",\"#FFA15A\",\"#19d3f3\",\"#FF6692\",\"#B6E880\",\"#FF97FF\",\"#FECB52\"],\"font\":{\"color\":\"#f2f5fa\"},\"geo\":{\"bgcolor\":\"rgb(17,17,17)\",\"lakecolor\":\"rgb(17,17,17)\",\"landcolor\":\"rgb(17,17,17)\",\"showlakes\":true,\"showland\":true,\"subunitcolor\":\"#506784\"},\"hoverlabel\":{\"align\":\"left\"},\"hovermode\":\"closest\",\"mapbox\":{\"style\":\"dark\"},\"paper_bgcolor\":\"rgb(17,17,17)\",\"plot_bgcolor\":\"rgb(17,17,17)\",\"polar\":{\"angularaxis\":{\"gridcolor\":\"#506784\",\"linecolor\":\"#506784\",\"ticks\":\"\"},\"bgcolor\":\"rgb(17,17,17)\",\"radialaxis\":{\"gridcolor\":\"#506784\",\"linecolor\":\"#506784\",\"ticks\":\"\"}},\"scene\":{\"xaxis\":{\"backgroundcolor\":\"rgb(17,17,17)\",\"gridcolor\":\"#506784\",\"gridwidth\":2,\"linecolor\":\"#506784\",\"showbackground\":true,\"ticks\":\"\",\"zerolinecolor\":\"#C8D4E3\"},\"yaxis\":{\"backgroundcolor\":\"rgb(17,17,17)\",\"gridcolor\":\"#506784\",\"gridwidth\":2,\"linecolor\":\"#506784\",\"showbackground\":true,\"ticks\":\"\",\"zerolinecolor\":\"#C8D4E3\"},\"zaxis\":{\"backgroundcolor\":\"rgb(17,17,17)\",\"gridcolor\":\"#506784\",\"gridwidth\":2,\"linecolor\":\"#506784\",\"showbackground\":true,\"ticks\":\"\",\"zerolinecolor\":\"#C8D4E3\"}},\"shapedefaults\":{\"line\":{\"color\":\"#f2f5fa\"}},\"sliderdefaults\":{\"bgcolor\":\"#C8D4E3\",\"bordercolor\":\"rgb(17,17,17)\",\"borderwidth\":1,\"tickwidth\":0},\"ternary\":{\"aaxis\":{\"gridcolor\":\"#506784\",\"linecolor\":\"#506784\",\"ticks\":\"\"},\"baxis\":{\"gridcolor\":\"#506784\",\"linecolor\":\"#506784\",\"ticks\":\"\"},\"bgcolor\":\"rgb(17,17,17)\",\"caxis\":{\"gridcolor\":\"#506784\",\"linecolor\":\"#506784\",\"ticks\":\"\"}},\"title\":{\"x\":0.05},\"updatemenudefaults\":{\"bgcolor\":\"#506784\",\"borderwidth\":0},\"xaxis\":{\"automargin\":true,\"gridcolor\":\"#283442\",\"linecolor\":\"#506784\",\"ticks\":\"\",\"title\":{\"standoff\":15},\"zerolinecolor\":\"#283442\",\"zerolinewidth\":2},\"yaxis\":{\"automargin\":true,\"gridcolor\":\"#283442\",\"linecolor\":\"#506784\",\"ticks\":\"\",\"title\":{\"standoff\":15},\"zerolinecolor\":\"#283442\",\"zerolinewidth\":2}}},\"xaxis\":{\"anchor\":\"y\",\"domain\":[0.0,1.0],\"title\":{\"text\":\"FECHA_YM\"},\"dtick\":\"M1\",\"tickformat\":\"%b\\n%Y\",\"ticklabelmode\":\"period\"},\"yaxis\":{\"anchor\":\"x\",\"domain\":[0.0,1.0],\"title\":{\"text\":\"value\"}},\"legend\":{\"title\":{\"text\":\"variable\"},\"tracegroupgap\":0},\"title\":{\"text\":\"Fallecidos COVID Menores 10 a\\u00f1os\"}},                        {\"responsive\": true}                    ).then(function(){\n",
              "                            \n",
              "var gd = document.getElementById('9ac1798c-32ed-4e96-b04d-62ab13166626');\n",
              "var x = new MutationObserver(function (mutations, observer) {{\n",
              "        var display = window.getComputedStyle(gd).display;\n",
              "        if (!display || display === 'none') {{\n",
              "            console.log([gd, 'removed!']);\n",
              "            Plotly.purge(gd);\n",
              "            observer.disconnect();\n",
              "        }}\n",
              "}});\n",
              "\n",
              "// Listen for the removal of the full notebook cells\n",
              "var notebookContainer = gd.closest('#notebook-container');\n",
              "if (notebookContainer) {{\n",
              "    x.observe(notebookContainer, {childList: true});\n",
              "}}\n",
              "\n",
              "// Listen for the clearing of the current output cell\n",
              "var outputEl = gd.closest('.output');\n",
              "if (outputEl) {{\n",
              "    x.observe(outputEl, {childList: true});\n",
              "}}\n",
              "\n",
              "                        })                };                            </script>        </div>\n",
              "</body>\n",
              "</html>"
            ]
          },
          "metadata": {}
        }
      ]
    },
    {
      "cell_type": "code",
      "source": [],
      "metadata": {
        "id": "Ib630bRrWpmQ"
      },
      "execution_count": null,
      "outputs": []
    }
  ]
}